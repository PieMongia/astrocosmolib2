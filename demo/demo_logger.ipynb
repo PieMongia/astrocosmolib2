{
 "cells": [
  {
   "cell_type": "code",
   "execution_count": 39,
   "metadata": {},
   "outputs": [],
   "source": [
    "#import pyACC\n",
    "import sys\n",
    "sys.path.append(\"../\")\n"
   ]
  },
  {
   "cell_type": "code",
   "execution_count": 40,
   "metadata": {},
   "outputs": [],
   "source": [
    "from pyACC.helpers import Logger"
   ]
  },
  {
   "cell_type": "code",
   "execution_count": 41,
   "metadata": {},
   "outputs": [],
   "source": [
    "#Inizializzo Logger\n",
    "logger=Logger(\"Pietro\")"
   ]
  },
  {
   "cell_type": "code",
   "execution_count": 42,
   "metadata": {},
   "outputs": [
    {
     "name": "stdout",
     "output_type": "stream",
     "text": [
      "2025-06-25 22:18:37.213373 :: \u001b[1m\u001b[35mPietro\u001b[0m :: \u001b[32mINFO\u001b[0m :: Ciao\n"
     ]
    }
   ],
   "source": [
    "#Info message\n",
    "logger(\"Ciao\")"
   ]
  },
  {
   "cell_type": "code",
   "execution_count": 43,
   "metadata": {},
   "outputs": [
    {
     "name": "stdout",
     "output_type": "stream",
     "text": [
      "2025-06-25 22:18:37.219467 :: \u001b[1m\u001b[35mPietro\u001b[0m :: \u001b[33mWARNING\u001b[0m :: Attenzione\n"
     ]
    }
   ],
   "source": [
    "#Warning message\n",
    "logger.warning(\"Attenzione\")"
   ]
  },
  {
   "cell_type": "code",
   "execution_count": 44,
   "metadata": {},
   "outputs": [
    {
     "name": "stdout",
     "output_type": "stream",
     "text": [
      "2025-06-25 22:18:37.226507 :: \u001b[1m\u001b[35mPietro\u001b[0m :: \u001b[31mERROR\u001b[0m :: Errore\n"
     ]
    }
   ],
   "source": [
    "#Error message\n",
    "logger.error(\"Errore\")"
   ]
  }
 ],
 "metadata": {
  "kernelspec": {
   "display_name": "acc-env",
   "language": "python",
   "name": "python3"
  },
  "language_info": {
   "codemirror_mode": {
    "name": "ipython",
    "version": 3
   },
   "file_extension": ".py",
   "mimetype": "text/x-python",
   "name": "python",
   "nbconvert_exporter": "python",
   "pygments_lexer": "ipython3",
   "version": "3.12.9"
  }
 },
 "nbformat": 4,
 "nbformat_minor": 2
}
